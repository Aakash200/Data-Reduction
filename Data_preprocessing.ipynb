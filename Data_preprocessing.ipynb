{
  "nbformat": 4,
  "nbformat_minor": 0,
  "metadata": {
    "colab": {
      "name": "Data preprocessing.ipynb",
      "provenance": []
    },
    "kernelspec": {
      "name": "python3",
      "display_name": "Python 3"
    },
    "language_info": {
      "name": "python"
    }
  },
  "cells": [
    {
      "cell_type": "code",
      "metadata": {
        "id": "arfgqVUyEpfk"
      },
      "source": [
        "import sklearn\n",
        "from sklearn import preprocessing"
      ],
      "execution_count": null,
      "outputs": []
    },
    {
      "cell_type": "markdown",
      "metadata": {
        "id": "ngzchXl531Ay"
      },
      "source": [
        "Standardization:  preprocessing.scale()"
      ]
    },
    {
      "cell_type": "code",
      "metadata": {
        "colab": {
          "base_uri": "https://localhost:8080/"
        },
        "id": "UR0DeubJE9RL",
        "outputId": "625a5e4c-6bd7-4b20-ad86-f9065d59f3c8"
      },
      "source": [
        "from sklearn import preprocessing\n",
        "import numpy as np\n",
        "x = np.array([[1, 2, 3],\n",
        "[ 4,  5,  6],\n",
        "[ 7,  8, 9]])\n",
        "y_scaled = preprocessing.scale(x)\n",
        "print(y_scaled)"
      ],
      "execution_count": null,
      "outputs": [
        {
          "output_type": "stream",
          "text": [
            "[[-1.22474487 -1.22474487 -1.22474487]\n",
            " [ 0.          0.          0.        ]\n",
            " [ 1.22474487  1.22474487  1.22474487]]\n"
          ],
          "name": "stdout"
        }
      ]
    },
    {
      "cell_type": "markdown",
      "metadata": {
        "id": "Qb8P-4FS36Jz"
      },
      "source": [
        "MinMaxScaler(feature_range=(1,5))"
      ]
    },
    {
      "cell_type": "code",
      "metadata": {
        "colab": {
          "base_uri": "https://localhost:8080/"
        },
        "id": "al4yO_bYJQ3_",
        "outputId": "e28b9027-7e10-4ba7-943e-b080200d822a"
      },
      "source": [
        "from sklearn.preprocessing import MinMaxScaler\n",
        "import numpy as np\n",
        "x = MinMaxScaler(feature_range=(0,8))\n",
        "y = np.array([[1, 2, 3],\n",
        "[ 4,  -5,  -6],\n",
        "[ 7,  8, 9]])\n",
        "scale = x.fit_transform(y)\n",
        "scale"
      ],
      "execution_count": null,
      "outputs": [
        {
          "output_type": "execute_result",
          "data": {
            "text/plain": [
              "array([[0.        , 4.30769231, 4.8       ],\n",
              "       [4.        , 0.        , 0.        ],\n",
              "       [8.        , 8.        , 8.        ]])"
            ]
          },
          "metadata": {
            "tags": []
          },
          "execution_count": 33
        }
      ]
    },
    {
      "cell_type": "code",
      "metadata": {
        "colab": {
          "base_uri": "https://localhost:8080/"
        },
        "id": "1wLx1cfYOfyJ",
        "outputId": "d9ba789f-bc37-4a68-c5f2-9f460a861246"
      },
      "source": [
        "from sklearn import preprocessing\n",
        "import numpy as np\n",
        "X = [[1,2,3],\n",
        "[4,-5,-6],\n",
        "[7,8,9]]\n",
        "y = preprocessing.normalize(X)\n",
        "y"
      ],
      "execution_count": null,
      "outputs": [
        {
          "output_type": "execute_result",
          "data": {
            "text/plain": [
              "array([[ 0.26726124,  0.53452248,  0.80178373],\n",
              "       [ 0.45584231, -0.56980288, -0.68376346],\n",
              "       [ 0.50257071,  0.57436653,  0.64616234]])"
            ]
          },
          "metadata": {
            "tags": []
          },
          "execution_count": 7
        }
      ]
    },
    {
      "cell_type": "markdown",
      "metadata": {
        "id": "8NZAHW_dHq3F"
      },
      "source": [
        "[0,1] or [-1,1]"
      ]
    },
    {
      "cell_type": "markdown",
      "metadata": {
        "id": "ZzJ_prwk37_U"
      },
      "source": [
        ""
      ]
    },
    {
      "cell_type": "code",
      "metadata": {
        "colab": {
          "base_uri": "https://localhost:8080/"
        },
        "id": "-eYiIY8FTs8C",
        "outputId": "6589580f-ee88-4716-e749-8e55eafce7ae"
      },
      "source": [
        "import sklearn.preprocessing\n",
        "import numpy as np\n",
        "enc = preprocessing.OrdinalEncoder()\n",
        "X = [['a','b','c','d'], ['e', 'f', 'g', 'h'],['i','j','k','l']]\n",
        "enc.fit(X)\n",
        "enc.transform([['a', 'f', 'g','l']])"
      ],
      "execution_count": null,
      "outputs": [
        {
          "output_type": "execute_result",
          "data": {
            "text/plain": [
              "array([[0., 1., 1., 2.]])"
            ]
          },
          "metadata": {
            "tags": []
          },
          "execution_count": 36
        }
      ]
    },
    {
      "cell_type": "markdown",
      "metadata": {
        "id": "OTc1PbN3IYBI"
      },
      "source": [
        ""
      ]
    },
    {
      "cell_type": "code",
      "metadata": {
        "colab": {
          "base_uri": "https://localhost:8080/"
        },
        "id": "rAkeE70HWHLD",
        "outputId": "e165c995-1c76-48f3-ad90-b678dcce8c4e"
      },
      "source": [
        "import sklearn.preprocessing\n",
        "import numpy as np\n",
        "enc = preprocessing.OneHotEncoder()\n",
        "X = [['a','b','c','d'], ['e', 'f', 'g', 'h'],['i','j','k','l']]\n",
        "enc.fit(X)\n",
        "enc.transform([['a', 'f', 'g', 'l']]).toarray().reshape(4,3)"
      ],
      "execution_count": null,
      "outputs": [
        {
          "output_type": "execute_result",
          "data": {
            "text/plain": [
              "array([[1., 0., 0.],\n",
              "       [0., 1., 0.],\n",
              "       [0., 1., 0.],\n",
              "       [0., 0., 1.]])"
            ]
          },
          "metadata": {
            "tags": []
          },
          "execution_count": 37
        }
      ]
    },
    {
      "cell_type": "code",
      "metadata": {
        "colab": {
          "base_uri": "https://localhost:8080/"
        },
        "id": "AuhbKy29XPN6",
        "outputId": "507ae834-aac5-45d7-8119-aa7782c22e17"
      },
      "source": [
        "import sklearn.preprocessing \n",
        "import numpy as np\n",
        "X = np.array([[ -3,2,3],\n",
        "              [-4,-5,6],\n",
        "              [7,8,9]])\n",
        "dis = preprocessing.KBinsDiscretizer(n_bins=[3,2,2], encode='ordinal')\n",
        "dis.fit_transform(X)"
      ],
      "execution_count": null,
      "outputs": [
        {
          "output_type": "execute_result",
          "data": {
            "text/plain": [
              "array([[1., 1., 0.],\n",
              "       [0., 0., 1.],\n",
              "       [2., 1., 1.]])"
            ]
          },
          "metadata": {
            "tags": []
          },
          "execution_count": 39
        }
      ]
    },
    {
      "cell_type": "markdown",
      "metadata": {
        "id": "2aKRMa00LOHI"
      },
      "source": [
        "Discretization:"
      ]
    },
    {
      "cell_type": "code",
      "metadata": {
        "colab": {
          "base_uri": "https://localhost:8080/"
        },
        "id": "CE2GFzoQYc98",
        "outputId": "d1fa84da-97b8-4216-d5e3-b643025218a1"
      },
      "source": [
        "from sklearn.impute import SimpleImputer\n",
        "import numpy as np\n",
        "impute = SimpleImputer(missing_values=np.nan, strategy='mean')\n",
        "X = [[np.nan, 1,2], [3,4, np.nan], [5, np.nan, 6]]\n",
        "impute.fit_transform(X)"
      ],
      "execution_count": null,
      "outputs": [
        {
          "output_type": "execute_result",
          "data": {
            "text/plain": [
              "array([[4. , 1. , 2. ],\n",
              "       [3. , 4. , 4. ],\n",
              "       [5. , 2.5, 6. ]])"
            ]
          },
          "metadata": {
            "tags": []
          },
          "execution_count": 11
        }
      ]
    },
    {
      "cell_type": "code",
      "metadata": {
        "colab": {
          "base_uri": "https://localhost:8080/"
        },
        "id": "lQInNl0o0RJM",
        "outputId": "b2eecf85-4d1c-49d8-d521-49ef6f203e10"
      },
      "source": [
        "import numpy as np\n",
        "from sklearn.preprocessing import PolynomialFeatures\n",
        "x = np.array([[1,2],\n",
        "              [3,4]])\n",
        "nonl = PolynomialFeatures(2)\n",
        "nonl.fit_transform(x)"
      ],
      "execution_count": null,
      "outputs": [
        {
          "output_type": "execute_result",
          "data": {
            "text/plain": [
              "array([[ 1.,  1.,  2.,  1.,  2.,  4.],\n",
              "       [ 1.,  3.,  4.,  9., 12., 16.]])"
            ]
          },
          "metadata": {
            "tags": []
          },
          "execution_count": 12
        }
      ]
    },
    {
      "cell_type": "code",
      "metadata": {
        "colab": {
          "base_uri": "https://localhost:8080/"
        },
        "id": "oI3uki9212o5",
        "outputId": "0cd2c2e9-5f1f-48cd-f65d-e4a6e8c97d33"
      },
      "source": [
        "import sklearn.preprocessing \n",
        "import numpy as np\n",
        "transformer = preprocessing.FunctionTransformer(np.log1p, validate=True)\n",
        "X = np.array([[1,2,3],\n",
        "              [4,5,6],\n",
        "              [7,8,9]])\n",
        "transformer.transform(X)"
      ],
      "execution_count": null,
      "outputs": [
        {
          "output_type": "execute_result",
          "data": {
            "text/plain": [
              "array([[0.69314718, 1.09861229, 1.38629436],\n",
              "       [1.60943791, 1.79175947, 1.94591015],\n",
              "       [2.07944154, 2.19722458, 2.30258509]])"
            ]
          },
          "metadata": {
            "tags": []
          },
          "execution_count": 13
        }
      ]
    },
    {
      "cell_type": "markdown",
      "metadata": {
        "id": "wMrfafF6N93T"
      },
      "source": [
        "data transformasion "
      ]
    },
    {
      "cell_type": "code",
      "metadata": {
        "id": "TQkSrRkm3i_3"
      },
      "source": [
        ""
      ],
      "execution_count": null,
      "outputs": []
    }
  ]
}